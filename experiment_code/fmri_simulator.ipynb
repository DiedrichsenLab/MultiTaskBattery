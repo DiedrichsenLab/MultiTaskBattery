{
 "metadata": {
  "language_info": {
   "codemirror_mode": {
    "name": "ipython",
    "version": 3
   },
   "file_extension": ".py",
   "mimetype": "text/x-python",
   "name": "python",
   "nbconvert_exporter": "python",
   "pygments_lexer": "ipython3",
   "version": "3.8.3-final"
  },
  "orig_nbformat": 2,
  "kernelspec": {
   "name": "python3",
   "display_name": "Python 3.8.3 64-bit ('base': conda)",
   "metadata": {
    "interpreter": {
     "hash": "93766081e3e487981e60414715c0b150df167d7ea13af2b95fe88c3a7300a465"
    }
   }
  }
 },
 "nbformat": 4,
 "nbformat_minor": 2,
 "cells": [
  {
   "cell_type": "code",
   "execution_count": 1,
   "metadata": {},
   "outputs": [
    {
     "output_type": "stream",
     "name": "stdout",
     "text": [
      "[['left', 0.3082308769226074]]\n"
     ]
    }
   ],
   "source": [
    "from __future__ import print_function\n",
    "from psychopy.hardware.emulator import ResponseEmulator\n",
    "from psychopy.event import waitKeys\n",
    "\n",
    "simulated_responses=[(0.3, 'left')]\n",
    "responder=ResponseEmulator(simulated_responses)\n",
    "responder.start()\n",
    "\n",
    "keys = waitKeys(timeStamped=responder.clock)\n",
    "print(keys)"
   ]
  },
  {
   "cell_type": "code",
   "execution_count": 6,
   "metadata": {},
   "outputs": [
    {
     "output_type": "execute_result",
     "data": {
      "text/plain": [
       "<SyncGenerator(Thread-7, initial)>"
      ]
     },
     "metadata": {},
     "execution_count": 6
    }
   ],
   "source": [
    "from psychopy.hardware.emulator import SyncGenerator\n",
    "SG = SyncGenerator(volums = 35)\n",
    "SG.run()"
   ]
  },
  {
   "cell_type": "code",
   "execution_count": 12,
   "metadata": {},
   "outputs": [
    {
     "output_type": "stream",
     "name": "stdout",
     "text": [
      "/home/ladan/Documents/Project/mdtb_reduced\n"
     ]
    }
   ],
   "source": [
    "cd .."
   ]
  },
  {
   "cell_type": "code",
   "execution_count": 14,
   "metadata": {},
   "outputs": [],
   "source": [
    "from psychopy.hardware.emulator import launchScan"
   ]
  },
  {
   "cell_type": "code",
   "execution_count": 3,
   "metadata": {},
   "outputs": [
    {
     "output_type": "stream",
     "name": "stdout",
     "text": [
      "1\n",
      "vol    onset key\n",
      "  0    0.000 sync  [Start of scanning run, vol 0]\n",
      "  1    2.000 sync\n",
      "  2    4.000 sync\n",
      "  3    6.000 sync\n",
      "  4    8.000 sync\n",
      "End of scan (vol 0..4 = 5 of 5). Total duration =  10.000 sec\n",
      "166.1404 \tWARNING \tMonitor specification not found. Creating a temporary one...\n"
     ]
    },
    {
     "output_type": "error",
     "ename": "SystemExit",
     "evalue": "0",
     "traceback": [
      "An exception has occurred, use %tb to see the full traceback.\n",
      "\u001b[0;31mSystemExit\u001b[0m\u001b[0;31m:\u001b[0m 0\n"
     ]
    }
   ],
   "source": [
    "#!/usr/bin/env python\n",
    "# -*- coding: utf-8 -*-\n",
    "\n",
    "\"\"\"\n",
    "This demo illustrates using hardware.emulator.launchScan() to either start a\n",
    "real scan, or emulate sync pulses. Emulation is to allow debugging script timing\n",
    "offline, without requiring a scanner (or a hardware sync pulse generator).\n",
    "\"\"\"\n",
    "\n",
    "# Author: Jeremy R. Gray\n",
    "\n",
    "from __future__ import absolute_import, division, print_function\n",
    "\n",
    "from builtins import str\n",
    "from builtins import range\n",
    "from psychopy import visual, event, core, gui\n",
    "from psychopy.hardware.emulator import launchScan\n",
    "\n",
    "# settings for launchScan:\n",
    "MR_settings = {\n",
    "    'TR': 2.000,     # duration (sec) per whole-brain volume\n",
    "    'volumes': 5,    # number of whole-brain 3D volumes per scanning run\n",
    "    'sync': 'slash', # character to use as the sync timing event; assumed to come at start of a volume\n",
    "    'skip': 0,       # number of volumes lacking a sync pulse at start of scan (for T1 stabilization)\n",
    "    'sound': True    # in test mode: play a tone as a reminder of scanner noise\n",
    "    }\n",
    "infoDlg = gui.DlgFromDict(MR_settings, title='fMRI parameters', order=['TR', 'volumes'])\n",
    "if not infoDlg.OK:\n",
    "    core.quit()\n",
    "\n",
    "win = visual.Window(fullscr=False)\n",
    "globalClock = core.Clock()\n",
    "\n",
    "# summary of run timing, for each key press:\n",
    "output = u'vol    onset key\\n'\n",
    "for i in range(-1 * MR_settings['skip'], 0):\n",
    "    output += u'%d prescan skip (no sync)\\n' % i\n",
    "\n",
    "counter = visual.TextStim(win, height=.05, pos=(0, 0), color=win.rgb + 0.5)\n",
    "output += u\"  0    0.000 sync  [Start of scanning run, vol 0]\\n\"\n",
    "\n",
    "# launch: operator selects Scan or Test (emulate); see API documentation\n",
    "vol = launchScan(win, MR_settings, globalClock=globalClock)\n",
    "counter.setText(u\"%d volumes\\n%.3f seconds\" % (0, 0.0))\n",
    "counter.draw()\n",
    "win.flip()\n",
    "\n",
    "duration = MR_settings['volumes'] * MR_settings['TR']\n",
    "# note: globalClock has been reset to 0.0 by launchScan()\n",
    "while globalClock.getTime() < duration:\n",
    "    allKeys = event.getKeys()\n",
    "    for key in allKeys:\n",
    "        if key == MR_settings['sync']:\n",
    "            onset = globalClock.getTime()\n",
    "            # do your experiment code at this point if you want it sync'd to the TR\n",
    "            # for demo just display a counter & time, updated at the start of each TR\n",
    "            counter.setText(u\"%d volumes\\n%.3f seconds\" % (vol, onset))\n",
    "            output += u\"%3d  %7.3f sync\\n\" % (vol, onset)\n",
    "            counter.draw()\n",
    "            win.flip()\n",
    "            vol += 1\n",
    "        else:\n",
    "            # handle keys (many fiber-optic buttons become key-board key-presses)\n",
    "            output += u\"%3d  %7.3f %s\\n\" % (vol-1, globalClock.getTime(), str(key))\n",
    "            if key == 'escape':\n",
    "                output += u'user cancel, '\n",
    "                break\n",
    "\n",
    "t = globalClock.getTime()\n",
    "win.flip()\n",
    "\n",
    "output += u\"End of scan (vol 0..%d = %d of %s). Total duration = %7.3f sec\" % (vol - 1, vol, MR_settings['volumes'], t)\n",
    "print(output)\n",
    "\n",
    "win.close()\n",
    "core.quit()\n",
    "\n",
    "# The contents of this file are in the public domain."
   ]
  },
  {
   "cell_type": "code",
   "execution_count": null,
   "metadata": {},
   "outputs": [],
   "source": []
  }
 ]
}