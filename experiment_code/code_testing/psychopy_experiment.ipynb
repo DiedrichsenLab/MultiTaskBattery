{
 "metadata": {
  "language_info": {
   "codemirror_mode": {
    "name": "ipython",
    "version": 3
   },
   "file_extension": ".py",
   "mimetype": "text/x-python",
   "name": "python",
   "nbconvert_exporter": "python",
   "pygments_lexer": "ipython3",
   "version": "3.8.3-final"
  },
  "orig_nbformat": 2,
  "kernelspec": {
   "name": "python3",
   "display_name": "Python 3.8.3 64-bit ('base': conda)",
   "metadata": {
    "interpreter": {
     "hash": "93766081e3e487981e60414715c0b150df167d7ea13af2b95fe88c3a7300a465"
    }
   }
  }
 },
 "nbformat": 4,
 "nbformat_minor": 2,
 "cells": [
  {
   "source": [
    "# Step by step checking and developing the experiment code:\n",
    "## 1. Create a  dilogue box to get info from the experimenter"
   ],
   "cell_type": "markdown",
   "metadata": {}
  },
  {
   "cell_type": "code",
   "execution_count": 8,
   "metadata": {},
   "outputs": [],
   "source": [
    "# general packages\n",
    "from pathlib import Path\n",
    "import os\n",
    "import re\n",
    "import pandas as pd\n",
    "import numpy as np\n",
    "import time\n",
    "import math\n",
    "import glob\n",
    "import warnings"
   ]
  },
  {
   "cell_type": "code",
   "execution_count": 9,
   "metadata": {},
   "outputs": [],
   "source": [
    "# gui from psychopy to create a gui and ask for experimented inputs\n",
    "from psychopy import gui\n",
    "\n",
    "#Set up input box\n",
    "inputDlg = gui.Dlg(title = \"Run Experiment\")\n",
    "\n",
    "inputDlg.addField('Enter Subject ID:') \n",
    "inputDlg.addField('Enter Study Name:')  # either behavioral or fmri\n",
    "inputDlg.addField('Enter Run Name:')\n",
    "inputDlg.addField('Wait for TTL pulse?', initial=False) # a checkbox \n",
    "\n",
    "inputDlg.show()\n",
    "# print(type(inputDlg.data))\n",
    "\n",
    "# # record input variables\n",
    "experiment_info = {}\n",
    "if inputDlg.OK:\n",
    "    experiment_info['subj_id']    = inputDlg.data[0]\n",
    "    experiment_info['study_name'] = inputDlg.data[1]\n",
    "    experiment_info['run_name']   = inputDlg.data[2]\n",
    "\n",
    "    # ttl flag that will be used to determine whether the program waits for ttl pulse or not\n",
    "    experiment_info['ttl_flag'] = inputDlg.data[3]\n",
    "else:\n",
    "    sys.exit()"
   ]
  },
  {
   "source": [
    "If nothing is entered here, then there will be errors in upcoming stages of the program, because the fields here will be used to get data, like target files, from the folders."
   ],
   "cell_type": "markdown",
   "metadata": {}
  },
  {
   "cell_type": "code",
   "execution_count": null,
   "metadata": {},
   "outputs": [],
   "source": []
  }
 ]
}