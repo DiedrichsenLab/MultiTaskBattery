{
 "cells": [
  {
   "cell_type": "markdown",
   "metadata": {},
   "source": [
    "# Compare different optimality criteria"
   ]
  },
  {
   "cell_type": "code",
   "execution_count": 8,
   "metadata": {},
   "outputs": [],
   "source": [
    "import sys\n",
    "sys.path.append('/Users/jdiedrichsen/Python/MultiTaskBattery/MultiTaskBattery')\n",
    "import numpy as np \n",
    "from numpy.linalg import inv,eig,eigh\n",
    "import PcmPy as pcm\n",
    "import matplotlib.pyplot as plt\n",
    "import MultiTaskBattery.MultiTaskBattery.optimal_battery as ob"
   ]
  },
  {
   "cell_type": "code",
   "execution_count": 3,
   "metadata": {},
   "outputs": [],
   "source": [
    "N = 8 \n",
    "U = np.random.normal(0,1,(N,10))\n",
    "H = pcm.matrix.centering(N)\n"
   ]
  },
  {
   "cell_type": "code",
   "execution_count": 5,
   "metadata": {},
   "outputs": [
    {
     "data": {
      "text/plain": [
       "<matplotlib.image.AxesImage at 0x29db538b910>"
      ]
     },
     "execution_count": 5,
     "metadata": {},
     "output_type": "execute_result"
    },
    {
     "data": {
      "image/png": "[encoded data removed]",
      "text/plain": [
       "<Figure size 640x480 with 1 Axes>"
      ]
     },
     "metadata": {},
     "output_type": "display_data"
    }
   ],
   "source": [
    "G = U @ U.T\n",
    "Gc = H @ G @ H\n",
    "plt.imshow(G)"
   ]
  },
  {
   "cell_type": "code",
   "execution_count": 6,
   "metadata": {},
   "outputs": [
    {
     "data": {
      "text/plain": [
       "[<matplotlib.lines.Line2D at 0x29db7747ac0>]"
      ]
     },
     "execution_count": 6,
     "metadata": {},
     "output_type": "execute_result"
    },
    {
     "data": {
      "image/png": "[encoded data removed]",
      "text/plain": [
       "<Figure size 640x480 with 1 Axes>"
      ]
     },
     "metadata": {},
     "output_type": "display_data"
    }
   ],
   "source": [
    "l,V = eigh(Gc)\n",
    "l = l[::-1]\n",
    "plt.plot(l)"
   ]
  },
  {
   "cell_type": "code",
   "execution_count": 5,
   "metadata": {},
   "outputs": [
    {
     "name": "stdout",
     "output_type": "stream",
     "text": [
      "[-2.00159983e+15 -4.97696780e-01 -1.52081354e-01  7.23538771e-02\n",
      "  1.53482556e-01  3.99906122e-01  6.39188021e-01  3.47859756e+00]\n",
      "[4.02040675e-02 6.12669680e-02 9.64167145e-02 1.27501968e-01\n",
      " 2.13963425e-01 4.15149151e-01 1.61756173e+00 3.66793467e+14]\n"
     ]
    }
   ],
   "source": [
    "li,Vi=eigh(inv(Gc))\n",
    "print(li)\n",
    "print(1./l)"
   ]
  },
  {
   "cell_type": "code",
   "execution_count": 9,
   "metadata": {},
   "outputs": [
    {
     "data": {
      "text/html": [
       "<div>\n",
       "<style scoped>\n",
       "    .dataframe tbody tr th:only-of-type {\n",
       "        vertical-align: middle;\n",
       "    }\n",
       "\n",
       "    .dataframe tbody tr th {\n",
       "        vertical-align: top;\n",
       "    }\n",
       "\n",
       "    .dataframe thead th {\n",
       "        text-align: right;\n",
       "    }\n",
       "</style>\n",
       "<table border=\"1\" class=\"dataframe\">\n",
       "  <thead>\n",
       "    <tr style=\"text-align: right;\">\n",
       "      <th></th>\n",
       "      <th>offset</th>\n",
       "      <th>max_var</th>\n",
       "      <th>min_est</th>\n",
       "      <th>log_det</th>\n",
       "      <th>combination</th>\n",
       "    </tr>\n",
       "  </thead>\n",
       "  <tbody>\n",
       "    <tr>\n",
       "      <th>0</th>\n",
       "      <td>0.000001</td>\n",
       "      <td>25.259681</td>\n",
       "      <td>7.781318e-01</td>\n",
       "      <td>5.369348</td>\n",
       "      <td>[4, 3, 6, 7]</td>\n",
       "    </tr>\n",
       "    <tr>\n",
       "      <th>1</th>\n",
       "      <td>0.001000</td>\n",
       "      <td>25.262678</td>\n",
       "      <td>7.777622e-01</td>\n",
       "      <td>5.370125</td>\n",
       "      <td>[4, 3, 6, 7]</td>\n",
       "    </tr>\n",
       "    <tr>\n",
       "      <th>2</th>\n",
       "      <td>0.100000</td>\n",
       "      <td>25.559678</td>\n",
       "      <td>7.430990e-01</td>\n",
       "      <td>5.445377</td>\n",
       "      <td>[4, 3, 6, 7]</td>\n",
       "    </tr>\n",
       "    <tr>\n",
       "      <th>3</th>\n",
       "      <td>0.000001</td>\n",
       "      <td>28.772080</td>\n",
       "      <td>1.000000e+06</td>\n",
       "      <td>-8.520886</td>\n",
       "      <td>[0, 4, 5, 0]</td>\n",
       "    </tr>\n",
       "    <tr>\n",
       "      <th>4</th>\n",
       "      <td>0.001000</td>\n",
       "      <td>28.775077</td>\n",
       "      <td>1.000144e+03</td>\n",
       "      <td>-1.612987</td>\n",
       "      <td>[0, 4, 5, 0]</td>\n",
       "    </tr>\n",
       "    <tr>\n",
       "      <th>...</th>\n",
       "      <td>...</td>\n",
       "      <td>...</td>\n",
       "      <td>...</td>\n",
       "      <td>...</td>\n",
       "      <td>...</td>\n",
       "    </tr>\n",
       "    <tr>\n",
       "      <th>2995</th>\n",
       "      <td>0.001000</td>\n",
       "      <td>32.028082</td>\n",
       "      <td>3.866209e-01</td>\n",
       "      <td>6.579440</td>\n",
       "      <td>[7, 3, 5, 2]</td>\n",
       "    </tr>\n",
       "    <tr>\n",
       "      <th>2996</th>\n",
       "      <td>0.100000</td>\n",
       "      <td>32.325082</td>\n",
       "      <td>3.807288e-01</td>\n",
       "      <td>6.617422</td>\n",
       "      <td>[7, 3, 5, 2]</td>\n",
       "    </tr>\n",
       "    <tr>\n",
       "      <th>2997</th>\n",
       "      <td>0.000001</td>\n",
       "      <td>22.652672</td>\n",
       "      <td>1.000000e+06</td>\n",
       "      <td>-9.062098</td>\n",
       "      <td>[5, 0, 0, 7]</td>\n",
       "    </tr>\n",
       "    <tr>\n",
       "      <th>2998</th>\n",
       "      <td>0.001000</td>\n",
       "      <td>22.655669</td>\n",
       "      <td>1.000195e+03</td>\n",
       "      <td>-2.154147</td>\n",
       "      <td>[5, 0, 0, 7]</td>\n",
       "    </tr>\n",
       "    <tr>\n",
       "      <th>2999</th>\n",
       "      <td>0.100000</td>\n",
       "      <td>22.952669</td>\n",
       "      <td>1.019325e+01</td>\n",
       "      <td>2.470256</td>\n",
       "      <td>[5, 0, 0, 7]</td>\n",
       "    </tr>\n",
       "  </tbody>\n",
       "</table>\n",
       "<p>3000 rows × 5 columns</p>\n",
       "</div>"
      ],
      "text/plain": [
       "        offset    max_var       min_est   log_det   combination\n",
       "0     0.000001  25.259681  7.781318e-01  5.369348  [4, 3, 6, 7]\n",
       "1     0.001000  25.262678  7.777622e-01  5.370125  [4, 3, 6, 7]\n",
       "2     0.100000  25.559678  7.430990e-01  5.445377  [4, 3, 6, 7]\n",
       "3     0.000001  28.772080  1.000000e+06 -8.520886  [0, 4, 5, 0]\n",
       "4     0.001000  28.775077  1.000144e+03 -1.612987  [0, 4, 5, 0]\n",
       "...        ...        ...           ...       ...           ...\n",
       "2995  0.001000  32.028082  3.866209e-01  6.579440  [7, 3, 5, 2]\n",
       "2996  0.100000  32.325082  3.807288e-01  6.617422  [7, 3, 5, 2]\n",
       "2997  0.000001  22.652672  1.000000e+06 -9.062098  [5, 0, 0, 7]\n",
       "2998  0.001000  22.655669  1.000195e+03 -2.154147  [5, 0, 0, 7]\n",
       "2999  0.100000  22.952669  1.019325e+01  2.470256  [5, 0, 0, 7]\n",
       "\n",
       "[3000 rows x 5 columns]"
      ]
     },
     "execution_count": 9,
     "metadata": {},
     "output_type": "execute_result"
    }
   ],
   "source": [
    "D=ob.build_combinations(G, strategy='random',n_iter=1000,n_tasks=4)\n",
    "D"
   ]
  },
  {
   "cell_type": "code",
   "execution_count": 10,
   "metadata": {},
   "outputs": [
    {
     "data": {
      "text/plain": [
       "<matplotlib.collections.PathCollection at 0x29db56ac220>"
      ]
     },
     "execution_count": 10,
     "metadata": {},
     "output_type": "execute_result"
    },
    {
     "data": {
      "image/png": "[encoded data removed]",
      "text/plain": [
       "<Figure size 640x480 with 1 Axes>"
      ]
     },
     "metadata": {},
     "output_type": "display_data"
    }
   ],
   "source": [
    "A= D[D.offset==0.001]\n",
    "plt.scatter(A.min_est,A.log_det)"
   ]
  }
 ],
 "metadata": {
  "kernelspec": {
   "display_name": "myenv",
   "language": "python",
   "name": "python3"
  },
  "language_info": {
   "codemirror_mode": {
    "name": "ipython",
    "version": 3
   },
   "file_extension": ".py",
   "mimetype": "text/x-python",
   "name": "python",
   "nbconvert_exporter": "python",
   "pygments_lexer": "ipython3",
   "version": "3.8.0"
  }
 },
 "nbformat": 4,
 "nbformat_minor": 2
}
