{
 "cells": [
  {
   "cell_type": "markdown",
   "metadata": {},
   "source": [
    "# Compare different optimality criteria"
   ]
  },
  {
   "cell_type": "code",
   "execution_count": 1,
   "metadata": {},
   "outputs": [],
   "source": [
    "import sys\n",
    "sys.path.append('/Users/jdiedrichsen/Python/MultiTaskBattery/MultiTaskBattery')\n",
    "import numpy as np \n",
    "from numpy.linalg import inv,eig,eigh\n",
    "import PcmPy as pcm\n",
    "import matplotlib.pyplot as plt\n",
    "import optimal_battery as ob"
   ]
  },
  {
   "cell_type": "code",
   "execution_count": 2,
   "metadata": {},
   "outputs": [],
   "source": [
    "N = 8 \n",
    "U = np.random.normal(0,1,(N,10))\n",
    "H = pcm.matrix.centering(N)\n"
   ]
  },
  {
   "cell_type": "code",
   "execution_count": 3,
   "metadata": {},
   "outputs": [
    {
     "data": {
      "text/plain": [
       "<matplotlib.image.AxesImage at 0x1253985d0>"
      ]
     },
     "execution_count": 3,
     "metadata": {},
     "output_type": "execute_result"
    },
    {
     "data": {
      "image/png": "[encoded data removed]",
      "text/plain": [
       "<Figure size 640x480 with 1 Axes>"
      ]
     },
     "metadata": {},
     "output_type": "display_data"
    }
   ],
   "source": [
    "G = U @ U.T\n",
    "Gc = H @ G @ H\n",
    "plt.imshow(G)"
   ]
  },
  {
   "cell_type": "code",
   "execution_count": 4,
   "metadata": {},
   "outputs": [
    {
     "data": {
      "text/plain": [
       "[<matplotlib.lines.Line2D at 0x1302615d0>]"
      ]
     },
     "execution_count": 4,
     "metadata": {},
     "output_type": "execute_result"
    },
    {
     "data": {
      "image/png": "[encoded data removed]",
      "text/plain": [
       "<Figure size 640x480 with 1 Axes>"
      ]
     },
     "metadata": {},
     "output_type": "display_data"
    }
   ],
   "source": [
    "l,V = eigh(Gc)\n",
    "l = l[::-1]\n",
    "plt.plot(l)"
   ]
  },
  {
   "cell_type": "code",
   "execution_count": 5,
   "metadata": {},
   "outputs": [
    {
     "name": "stdout",
     "output_type": "stream",
     "text": [
      "[-2.00159983e+15 -4.97696780e-01 -1.52081354e-01  7.23538771e-02\n",
      "  1.53482556e-01  3.99906122e-01  6.39188021e-01  3.47859756e+00]\n",
      "[4.02040675e-02 6.12669680e-02 9.64167145e-02 1.27501968e-01\n",
      " 2.13963425e-01 4.15149151e-01 1.61756173e+00 3.66793467e+14]\n"
     ]
    }
   ],
   "source": [
    "li,Vi=eigh(inv(Gc))\n",
    "print(li)\n",
    "print(1./l)"
   ]
  },
  {
   "cell_type": "code",
   "execution_count": 9,
   "metadata": {},
   "outputs": [
    {
     "data": {
      "text/html": [
       "<div>\n",
       "<style scoped>\n",
       "    .dataframe tbody tr th:only-of-type {\n",
       "        vertical-align: middle;\n",
       "    }\n",
       "\n",
       "    .dataframe tbody tr th {\n",
       "        vertical-align: top;\n",
       "    }\n",
       "\n",
       "    .dataframe thead th {\n",
       "        text-align: right;\n",
       "    }\n",
       "</style>\n",
       "<table border=\"1\" class=\"dataframe\">\n",
       "  <thead>\n",
       "    <tr style=\"text-align: right;\">\n",
       "      <th></th>\n",
       "      <th>offset</th>\n",
       "      <th>max_var</th>\n",
       "      <th>min_est</th>\n",
       "      <th>log_det</th>\n",
       "      <th>combination</th>\n",
       "    </tr>\n",
       "  </thead>\n",
       "  <tbody>\n",
       "    <tr>\n",
       "      <th>0</th>\n",
       "      <td>0.000001</td>\n",
       "      <td>12.804213</td>\n",
       "      <td>2.000000e+06</td>\n",
       "      <td>-25.081247</td>\n",
       "      <td>[0, 0, 4, 0]</td>\n",
       "    </tr>\n",
       "    <tr>\n",
       "      <th>1</th>\n",
       "      <td>0.001000</td>\n",
       "      <td>12.807210</td>\n",
       "      <td>2.000078e+03</td>\n",
       "      <td>-11.265658</td>\n",
       "      <td>[0, 0, 4, 0]</td>\n",
       "    </tr>\n",
       "    <tr>\n",
       "      <th>2</th>\n",
       "      <td>0.100000</td>\n",
       "      <td>13.104210</td>\n",
       "      <td>2.007749e+01</td>\n",
       "      <td>-2.047617</td>\n",
       "      <td>[0, 0, 4, 0]</td>\n",
       "    </tr>\n",
       "    <tr>\n",
       "      <th>3</th>\n",
       "      <td>0.000001</td>\n",
       "      <td>21.915099</td>\n",
       "      <td>1.000000e+06</td>\n",
       "      <td>-9.124655</td>\n",
       "      <td>[3, 1, 5, 1]</td>\n",
       "    </tr>\n",
       "    <tr>\n",
       "      <th>4</th>\n",
       "      <td>0.001000</td>\n",
       "      <td>21.918096</td>\n",
       "      <td>1.000201e+03</td>\n",
       "      <td>-2.216698</td>\n",
       "      <td>[3, 1, 5, 1]</td>\n",
       "    </tr>\n",
       "    <tr>\n",
       "      <th>...</th>\n",
       "      <td>...</td>\n",
       "      <td>...</td>\n",
       "      <td>...</td>\n",
       "      <td>...</td>\n",
       "      <td>...</td>\n",
       "    </tr>\n",
       "    <tr>\n",
       "      <th>2995</th>\n",
       "      <td>0.001000</td>\n",
       "      <td>21.482249</td>\n",
       "      <td>6.537693e-01</td>\n",
       "      <td>5.294751</td>\n",
       "      <td>[7, 2, 0, 3]</td>\n",
       "    </tr>\n",
       "    <tr>\n",
       "      <th>2996</th>\n",
       "      <td>0.100000</td>\n",
       "      <td>21.779249</td>\n",
       "      <td>6.335805e-01</td>\n",
       "      <td>5.358462</td>\n",
       "      <td>[7, 2, 0, 3]</td>\n",
       "    </tr>\n",
       "    <tr>\n",
       "      <th>2997</th>\n",
       "      <td>0.000001</td>\n",
       "      <td>26.871729</td>\n",
       "      <td>4.357947e-01</td>\n",
       "      <td>6.180505</td>\n",
       "      <td>[3, 1, 7, 6]</td>\n",
       "    </tr>\n",
       "    <tr>\n",
       "      <th>2998</th>\n",
       "      <td>0.001000</td>\n",
       "      <td>26.874726</td>\n",
       "      <td>4.357161e-01</td>\n",
       "      <td>6.180940</td>\n",
       "      <td>[3, 1, 7, 6]</td>\n",
       "    </tr>\n",
       "    <tr>\n",
       "      <th>2999</th>\n",
       "      <td>0.100000</td>\n",
       "      <td>27.171726</td>\n",
       "      <td>4.280838e-01</td>\n",
       "      <td>6.223696</td>\n",
       "      <td>[3, 1, 7, 6]</td>\n",
       "    </tr>\n",
       "  </tbody>\n",
       "</table>\n",
       "<p>3000 rows × 5 columns</p>\n",
       "</div>"
      ],
      "text/plain": [
       "        offset    max_var       min_est    log_det   combination\n",
       "0     0.000001  12.804213  2.000000e+06 -25.081247  [0, 0, 4, 0]\n",
       "1     0.001000  12.807210  2.000078e+03 -11.265658  [0, 0, 4, 0]\n",
       "2     0.100000  13.104210  2.007749e+01  -2.047617  [0, 0, 4, 0]\n",
       "3     0.000001  21.915099  1.000000e+06  -9.124655  [3, 1, 5, 1]\n",
       "4     0.001000  21.918096  1.000201e+03  -2.216698  [3, 1, 5, 1]\n",
       "...        ...        ...           ...        ...           ...\n",
       "2995  0.001000  21.482249  6.537693e-01   5.294751  [7, 2, 0, 3]\n",
       "2996  0.100000  21.779249  6.335805e-01   5.358462  [7, 2, 0, 3]\n",
       "2997  0.000001  26.871729  4.357947e-01   6.180505  [3, 1, 7, 6]\n",
       "2998  0.001000  26.874726  4.357161e-01   6.180940  [3, 1, 7, 6]\n",
       "2999  0.100000  27.171726  4.280838e-01   6.223696  [3, 1, 7, 6]\n",
       "\n",
       "[3000 rows x 5 columns]"
      ]
     },
     "execution_count": 9,
     "metadata": {},
     "output_type": "execute_result"
    }
   ],
   "source": [
    "D=ob.build_combinations(G, strategy='random',n_iter=1000,n_tasks=4)\n",
    "D"
   ]
  },
  {
   "cell_type": "code",
   "execution_count": 13,
   "metadata": {},
   "outputs": [
    {
     "data": {
      "text/plain": [
       "<matplotlib.collections.PathCollection at 0x130f79e50>"
      ]
     },
     "execution_count": 13,
     "metadata": {},
     "output_type": "execute_result"
    },
    {
     "data": {
      "image/png": "[encoded data removed]",
      "text/plain": [
       "<Figure size 640x480 with 1 Axes>"
      ]
     },
     "metadata": {},
     "output_type": "display_data"
    }
   ],
   "source": [
    "A= D[D.offset==0.001]\n",
    "plt.scatter(A.min_est,A.log_det)"
   ]
  }
 ],
 "metadata": {
  "kernelspec": {
   "display_name": "base",
   "language": "python",
   "name": "python3"
  },
  "language_info": {
   "codemirror_mode": {
    "name": "ipython",
    "version": 3
   },
   "file_extension": ".py",
   "mimetype": "text/x-python",
   "name": "python",
   "nbconvert_exporter": "python",
   "pygments_lexer": "ipython3",
   "version": "3.11.5"
  }
 },
 "nbformat": 4,
 "nbformat_minor": 2
}
